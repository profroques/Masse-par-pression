{
 "cells": [
  {
   "cell_type": "markdown",
   "metadata": {},
   "source": [
    "<div class=\"panel panel-primary\">\n",
    "    <div class=\"panel-heading\"><h2>Préambule :</h2></div>\n",
    "      <div class=\"panel-body\">\n",
    "Dans cette interface, vous allez découvrir des blocs de code qui composent un programme informatique complet. Afin de vous permettre de vous initier au codage et de vous faire participer à la rédaction de ce programme informatique, vous serez sollicité.e.s pour deux types de travaux. <br>\n",
    "- un travail pour <i>exécuter</i> un bloc de programme informatique ;<br>\n",
    "- un travail pour <i>compléter</i> un bloc de programme informatique.<br>\n",
    "<br>\n",
    "Avant de commencer à découvrir le contenu du programme informatique proposé, je vous invite à prendre connaissance des différents types de consignes et des codes couleurs associées que vous allez rencontrer.\n",
    "      </div>\n",
    "</div>"
   ]
  },
  {
   "cell_type": "markdown",
   "metadata": {},
   "source": [
    "<div class=\"alert alert-info\" role=\"alert\">\n",
    "<b>Travail à faire pour exécuter un bloc de programme informatique : </b> <br>\n",
    "<br><i>Avant</i> les blocs de programme qu'il faut simplément \"exécuter\", vous trouverez :<br>\n",
    "la consigne de travail sur un fond bleu avec une écriture en bleu foncé comme pour cette consigne.<br>\n",
    "\n",
    "Pour Exécuter le code dans un bloc de programme, il faut le sélectionner en cliquant sur la cellule du bloc, puis cliquer sur le bouton Run (ou Exécuter) <b>en haut de la page</b> ou bien en cliquant sur la flèche à côté de In (ou Entrée) si vous êtes sur tablettes ou smartphones.\n",
    "</div>"
   ]
  },
  {
   "cell_type": "markdown",
   "metadata": {},
   "source": [
    "![](bouton_executer.gif)"
   ]
  },
  {
   "cell_type": "markdown",
   "metadata": {},
   "source": [
    "<div class=\"alert alert-warning\">\n",
    "<b>Travail à faire pour compléter un bloc de programme informatique: </b> <br>\n",
    "Certains blocs de codes doivent être complétés <span style='border:1px outset black'>avant</span> d'être exécutés afin de fonctionner convenablement.<br>\n",
    "<br><i>Avant</i> les blocs de programme qu'il faut \"compléter\", vous trouverez :<br>\n",
    "- la consigne de travail sur un fond jaune avec une écriture en brun - comme pour cette consigne.<br>\n",
    "\n",
    "Dans le bloc de programme à compléter vous remplacerez la mention \"-----A COMPLETER-----\" par le code adapté.<br>\n",
    "Dans certains cas, il est possible d'avoir des aides et/ou la solution.\n",
    "<br><b>ATTENTION : Une fois le programme complété, il faut alors exécuter le bloc de code correspondant.</b>\n",
    "</div>"
   ]
  },
  {
   "cell_type": "markdown",
   "metadata": {},
   "source": [
    "*****"
   ]
  },
  {
   "cell_type": "markdown",
   "metadata": {},
   "source": [
    "<h1> INTERFACE - Défi \"Déterminer la masse d'un objet par mesures de pression de l'air !\"</h1>"
   ]
  },
  {
   "cell_type": "markdown",
   "metadata": {},
   "source": [
    "<img src=\"Capture2.png\" alt=\"Capture d'écran\" style=\"width: 400px;\"/>"
   ]
  },
  {
   "cell_type": "markdown",
   "metadata": {},
   "source": [
    "<div class=\"panel panel-default\">\n",
    "      <div class=\"panel-heading\"><h2>Bienvenue dans cette interface qui accompagne l'activité \"Déterminer la masse d'un objet par mesures de pression de l'air !\"</h2></div>\n",
    "       <div class=\"panel-body\">Tout d'abord, un rappel du tutoriel en vidéo des mesures de pression <i>p<sub>1</sub></i> (valeur de la pression de l'air dans le sac de congélation surmonté du livre) et <i>p<sub>2</sub></i> (valeur de la pression de l'air dans le sac de congélation surmonté du livre et de l'objet étudié) est donné.</div> \n",
    "          <div class=\"panel-body\">Puis, cette interface permet :<br>\n",
    "              <b>1)</b> de saisir les mesures de variation de pression deltap = <i>p<sub>2</sub></i>-<i>p<sub>1</sub></i> avec <i>p<sub>1</sub></i> (valeur de la pression de l'air dans le sac de congélation surmonté du livre) et <i>p<sub>2</sub></i> (valeur de la pression de l'air dans le sac de congélation surmonté du livre et de l'objet étudié) réalisées N fois (avec, idéalement, N = 10 au minimum) ;<br>  \n",
    "             <b>2)</b> de calculer, pour les N mesures, la valeur de la masse <i>m</i> de l'objet étudié à partir de la valeur de la différence <i>p<sub>2</sub></i>-<i>p<sub>1</sub></i> ;<br>  \n",
    "              <b>3)</b> de calculer un écart-type des N valeurs de <i>m</i> calculées ;<br>  \n",
    "              <b>4)</b> de calculer une incertitude sur les N valeurs de <i>m</i> calculées ;<br>  \n",
    "           </div>\n",
    "<div class=\"panel-body\"><b>Il restera donc à exploiter la valeur moyenne des masses calculées et l'incertitude U(m) sur cette valeur pour réfléchir à proposer une notation de résultat de manière adaptée ;)</b></div>\n",
    "      </div>\n",
    "</div>"
   ]
  },
  {
   "cell_type": "markdown",
   "metadata": {},
   "source": [
    "<div class=\"alert alert-success\" role=\"alert\">\n",
    "  <h4 class=\"alert-heading\">Tutoriel vidéo des mesures de pression de l'air dans le sac de congélation</h4>\n",
    "  <p>En cliquant sur l'image suivante, il est possible d'ouvrir dans une autre fenêtre, le tutoriel vidéo de mesures\n",
    "des deux pressions de l'air dans le sac de congélation</p>\n",
    "</div>\n"
   ]
  },
  {
   "cell_type": "markdown",
   "metadata": {},
   "source": [
    "[![Alt text](https://img.youtube.com/vi/gdxxZkB_lo0/0.jpg)](https://www.youtube.com/watch?v=gdxxZkB_lo0)"
   ]
  },
  {
   "cell_type": "markdown",
   "metadata": {},
   "source": [
    "<div class=\"alert alert-success\" role=\"alert\">\n",
    "  <h4 class=\"alert-heading\">Consigner les mesures de pression de l'air dans le sac de congélation</h4>\n",
    "  <p>Lors des mesures expérimentales, il est conseillé de consigner les valeurs dans un tableau de mesures comme par exemple celui de l'illustration suivante</p>\n",
    "</div>"
   ]
  },
  {
   "cell_type": "markdown",
   "metadata": {},
   "source": [
    "<img src=\"tableau2.jpg\" alt=\"Tableau de mesures de pression\" style=\"width: 700px;\"/>"
   ]
  },
  {
   "cell_type": "markdown",
   "metadata": {},
   "source": [
    "<div class=\"alert alert-info\" role=\"alert\">\n",
    "<b>Travail à faire pour exécuter le bloc suivant : </b> <br>\n",
    "Le bloc suivant permet de déclarer des \"listes\". Ces liste permettent de stocker des valeurs comme des mesures de grandeurs physiques. Une liste correspond à un ensemble de valeurs d'une même grandeur. <br>\n",
    "<br>\n",
    "Exemple : la liste appelée \"deltap\" permettra de \"consigner\" les différentes valeurs de différence pression p<sub>2</sub>-p<sub>1</sub> mesurées - cette liste peut être perçue comme la ligne intitulée \"Différence de pression delta p\" dans le tableau précédent.<br>\n",
    "Initialement, ces listes sont vides : il faut les remplir par saisie des valeurs mesurées.\n",
    "\n",
    "Afin de déclarer ces listes, il faut <i>Exécuter</i> le code suivant.<br>\n",
    "Pour Exécuter le code dans la cellule ci-dessous, il faut <i>le sélectionner-le en cliquant sur la cellule</i>, puis cliquer sur le bouton Run (ou Exécuter) <b>en haut de la page</b> ou bien cliquer sur la flèche à côté de In (ou Entrée) si vous êtes sur tablettes ou smartphones.\n",
    "<br><b>Si vous avez réussi, vous verrez un message de félicitations s'afficher ;)</b>\n",
    "</div>"
   ]
  },
  {
   "cell_type": "code",
   "execution_count": null,
   "metadata": {
    "scrolled": true
   },
   "outputs": [],
   "source": [
    "import math\n",
    "valeurs_deltap=[] # liste des valeurs de p2-p1\n",
    "N=len(valeurs_deltap) #Nombre de valeurs de (p2-p1)\n",
    "masse=[] # liste des valeurs de la masse de l'objet étudié pour chaque mesure réalisée\n",
    "l=0\n",
    "L=0\n",
    "print('\\033[91m','\\033[1m',\"Bravo ! Si vous voyez ce texte, c'est que vous avez réussi à exécuter le premier bloc de code permettant la déclaration de la liste deltap et masse ainsi que les variables N, l et L\")"
   ]
  },
  {
   "cell_type": "markdown",
   "metadata": {},
   "source": [
    "<div class=\"alert alert-warning\">\n",
    "<b>Travail à faire pour compléter le bloc de programme suivant : </b> <br>\n",
    "\n",
    "Dans le bloc de programme suivant, on se propose de créer une fonction dont le but est de calculer la surface du livre après avoir demandé à l'utilisateur.rice la saisie des valeurs de la largeur (l) et de la longueur (L) du livre.<br>\n",
    "Cette fonction permet de convetir les dimensions en mètre grâce à la puissance de dix \"1E2\".<br>\n",
    "La ligne n°6 permet de calculer la surface du livre.<br>\n",
    "\n",
    "Après avoir consulté le code, remplacer la mention \"-----A COMPLETER-----\" de la ligne n°6 par le nom de la variable adaptée.<br>\n",
    "\n",
    "En cas de doute, il est possible d'utiliser l\"Aide\" proposée ci-dessous. Avant d'executer le programme, il est possible de cliquer sur la \"solution\" pour vérifier sa proposition.<br>\n",
    "<b>ATTENTION : une fois le code complété, il ne faudra pas oublier de l'exécuter. </b>\n",
    "</div>"
   ]
  },
  {
   "cell_type": "markdown",
   "metadata": {},
   "source": [
    "<details>\n",
    "<summary>Aide</summary>\n",
    "<p>Vous devez compléter la ligne n°6 en remplaçant la mention \"---A COMPLETER----\" par le nom adapté d'une variable.</p>\n",
    "</details>\n",
    "\n",
    "<details>\n",
    "<summary>Solution</summary>\n",
    "<p> La surface du livre correspond à la largeur du livre (l) multiplié par sa longueur (L). On modifie la mention ---A COMPLETER---- de la ligne n°6 de la manière suivante : <br></p>\n",
    "\n",
    "<p>\n",
    "<br>return (l*L)</p>\n",
    "</details>"
   ]
  },
  {
   "cell_type": "markdown",
   "metadata": {},
   "source": [
    "<b>Infos !</b> <br>\n",
    "Largeur du livre (en cm) : 9.5 <br>\n",
    "Longueur du livre (en cm) : 9.5 <br>\n"
   ]
  },
  {
   "cell_type": "code",
   "execution_count": null,
   "metadata": {},
   "outputs": [],
   "source": [
    "def surface(l,L):\n",
    "    l = float(input(\"Entrer la valeur de la largeur l du livre exprimée en cm : \"))\n",
    "    l=l*1E-2\n",
    "    L = float(input(\"Entrer la valeur de la longueur L du livre exprimée en cm : \"))\n",
    "    L = L*1E-2\n",
    "    return (l*L)\n",
    "S=surface(l,L)\n",
    "print()\n",
    "print('\\033[92m','\\033[1m',\"La valeur de la surface S du livre vaut :\")\n",
    "print()\n",
    "print(\" S = \",S,\" m\\u00B2\")"
   ]
  },
  {
   "cell_type": "markdown",
   "metadata": {},
   "source": [
    "<div class=\"alert alert-warning\">\n",
    "<b>Travail à faire pour compléter le bloc de programme suivant : </b> <br>\n",
    "\n",
    "Dans le bloc de programme suivant, on se propose de créer une fonction dont le but est d'exploiter la saisie des valeurs de p<sub>1</sub> et de p<sub>2</sub> demandées à l'utilisateur.rice.<br>\n",
    "Cette fonction permet :<br>\n",
    "- de créer la valeur \"deltap\" correspondant à la différence p<sub>2</sub>-p<sub>1</sub>.<br>\n",
    "- de calculer la valeur de la masse de l'objet étudié ;\n",
    "\n",
    "Cette fonction permet aussi de compléter les listes créées puis d'afficher les valeurs \"deltap\" et \"masses\".<br>\n",
    "\n",
    "Après avoir consulté le code, remplacer la mention \"-----A COMPLETER-----\" par le code adapté.<br>\n",
    "\n",
    "En cas de doute, il est possible d'utiliser l\"Aide\" proposée ci-dessous. Avant d'executer le programme, il est possible de cliquer sur la \"solution\" pour vérifier sa proposition.<br>\n",
    "<b>ATTENTION : une fois le code complété, il ne faudra pas oublier de l'exécuter. </b>\n",
    "</div>"
   ]
  },
  {
   "cell_type": "markdown",
   "metadata": {},
   "source": [
    "<details>\n",
    "<summary>Aide</summary>\n",
    "<p>Vous devez compléter la ligne n°5 en remplaçant la mention \"---A COMPLETER----\" par un nom de liste adaptée.</p>\n",
    "</details>\n",
    "\n",
    "<details>\n",
    "<summary>Solution</summary>\n",
    "<p> la liste correspondant à la différence de pression est appelée deltap.On remplace la mention ---A COMPLETER---- de la ligne n°5 de la manière suivante : <br></p>\n",
    "\n",
    "<p>\n",
    "<br>print(\"La valeur de p2-p1 vaut : delta p = \",deltap,\" hPa\") </p>\n",
    "</details>"
   ]
  },
  {
   "cell_type": "code",
   "execution_count": null,
   "metadata": {},
   "outputs": [],
   "source": [
    "def exploitation_pressions(valeurs_deltap):\n",
    "    deltap = float(input(\"Entrer la valeur de la différence de pression delta p\\u2081 exprimée en hPa - Attention : pour un décimal, remplacer la virgule par un point : \"))\n",
    "    valeurs_deltap.append(deltap)\n",
    "    print(\"La valeur de p\\u2082-p\\u2081 vaut : delta p = \",deltap,\" hPa\")\n",
    "    m = deltap*1E2*S/9.81\n",
    "    masse.append(m)\n",
    "    N=len(valeurs_deltap)\n",
    "    print()\n",
    "    print('\\033[93m','\\033[1m',\"La valeur de calculée de la masse de l'objet étudié vaut m =\",m)\" kg\"\n",
    "    print('\\033[92m','\\033[1m',\"Nombre de valeurs de masse calculées vaut : \", N)\n",
    "    print()\n",
    "print()\n",
    "print('\\033[91m','\\033[1m',\"Bravo ! Vous avez réussi à exécuter votre deuxième bloc mais comparez votre code de la ligne 4 à celui de la solution\")"
   ]
  },
  {
   "cell_type": "markdown",
   "metadata": {},
   "source": [
    "<div class=\"alert alert-info\" role=\"alert\">\n",
    "<b>Travail à faire pour exécuter le bloc de programme suivant : </b> <br>\n",
    "    Le bloc suivant permet de réaliser la saisie des différentes valeurs de pression p<sub>1</sub> et p<sub>2</sub>. <br>\n",
    "On se propose de demander à l'utilisteur.rice de saisir ses valeurs tant qu'il.elle en a proposés. Pour cela, on utilise la boucle \"while\" (=Tant que\"). Ainsi, tant que l'utilisteur.rice répond O (pour oui), le script demande les valeurs de p<sub>1</sub> et p<sub>2</sub> pour chaque session de mesure<br>\n",
    "<br>Lorsqu'on excécute le code suivant, le bout de programme appelle notamment la fonction précédemment crée.\n",
    "<br>\n",
    "<br>\n",
    "Exécuter le code suivant et renseigner les questions posées.<br>\n",
    "Pour Exécuter le code dans la cellule ci-dessus, le sélectionner-le en cliquant sur la cellule, puis cliquer sur le bouton Run (ou Exécuter) en haut de la page ou bien en cliquant sur la flèche à côté de In (ou Entrée) si vous êtes sur tablettes ou smartphones.\n",
    "<br><b>Si vous avez réussi, vous verrez un message de félicitations ;)</b>\n",
    "</div>"
   ]
  },
  {
   "cell_type": "markdown",
   "metadata": {},
   "source": [
    "<b>Infos !</b> <br>\n",
    "Première mesure de deltap (en hPa):<br>\n",
    "0.81\n",
    "<br>\n",
    "Première mesure de deltap (en hPa):<br>\n",
    "0.87"
   ]
  },
  {
   "cell_type": "code",
   "execution_count": null,
   "metadata": {
    "scrolled": true
   },
   "outputs": [],
   "source": [
    "reponse=\"O\"\n",
    "while reponse == \"O\":\n",
    "    exploitation_pressions(valeurs_deltap)\n",
    "    reponse=input(\"Avez-vous d'autres valeurs de deltap à saisir ? répondre par O pour oui ou N pour non : \")\n",
    "print()\n",
    "print('\\033[91m','\\033[1m',\"Bravo! Vous avez réussi à exéctuer le programme et à saisir l'ensemble de vos valeurs de pressions mesurées: Good Job !\")"
   ]
  },
  {
   "cell_type": "markdown",
   "metadata": {},
   "source": [
    "<div class=\"alert alert-warning\">\n",
    "<b>Travail à faire pour compléter le bloc de programme suivant : </b> <br>\n",
    "\n",
    "Dans le bloc de programme suivant, on se propose de créer une fonction dont le but est de calculer la valeur moyenne des masses déterminées pour chaque mesure de couple de pression p<sub>1</sub> et p<sub>2</sub>.<br>\n",
    "\n",
    "\n",
    "Après avoir consulté le code, remplacer la mention \"-----A COMPLETER-----\" de la ligne n°3 par la variable adaptée.<br>\n",
    "\n",
    "En cas de doute, il est possible d'utiliser l\"Aide\" proposée ci-dessous. Avant d'executer le programme, il est possible de cliquer sur la \"solution\" pour vérifier sa proposition.<br>\n",
    "<b>ATTENTION : une fois le code complété, il ne faudra pas oublier de l'exécuter. </b>\n",
    "</div>"
   ]
  },
  {
   "cell_type": "markdown",
   "metadata": {},
   "source": [
    "<details>\n",
    "<summary>Aide</summary>\n",
    "<p>Vous devez compléter la ligne n°3 en remplaçant la mention \"---A COMPLETER----\" par un nom de liste adaptée. La moyenne d'un ensemble de N valeurs correspondant à la somme de ces valeurs divisée par N.</p>\n",
    "</details>\n",
    "\n",
    "<details>\n",
    "<summary>Solution</summary>\n",
    "<p> la variable correspondant au nombre de valeurs de la masse est appelée N.On remplace la mention ---A COMPLETER---- de la ligne n°3 de la manière suivante : <br></p>\n",
    "\n",
    "<p>\n",
    "<br>return sum(masse)/N </p>\n",
    "</details>"
   ]
  },
  {
   "cell_type": "code",
   "execution_count": null,
   "metadata": {},
   "outputs": [],
   "source": [
    "def moyenne(masse):\n",
    "    N=len(masse)\n",
    "    return sum(masse)/N\n",
    "moyenne_masse=round(moyenne(masse)*1E3)\n",
    "print()\n",
    "print('\\033[92m','\\033[1m',\"La valeur moyenne de l'ensemble des valeurs de masse  vaut : \",moyenne_masse,\" g\")\n",
    "print()"
   ]
  },
  {
   "cell_type": "markdown",
   "metadata": {},
   "source": [
    "<div class=\"alert alert-info\" role=\"alert\">\n",
    "<b>Travail à faire pour exécuter le bloc de programme suivant : </b> <br>\n",
    "    Le bloc suivant permet de créer une fonction calculant l'écart-type de l'ensemble des valeurs des masses déterminées. <br>\n",
    "Cette valeur de l'écart-type est nécessaire pour calculer l'incertitude U(m) sur la masse.\n",
    "<br>Lorsqu'on excécute le code suivant, le bout de programme appelle notamment la fonction précédemment crée.\n",
    "<br>\n",
    "<br>\n",
    "Exécuter le code suivant.<br>\n",
    "Pour Exécuter le code dans la cellule ci-dessus, le sélectionner-le en cliquant sur la cellule, puis cliquer sur le bouton Run (ou Exécuter) en haut de la page ou bien en cliquant sur la flèche à côté de In (ou Entrée) si vous êtes sur tablettes ou smartphones.\n",
    "<br><b>Si vous avez réussi, vous verrez un message indiquant la valeur de l'écart-type des valeurs de masses calculées ;)</b>\n",
    "</div>"
   ]
  },
  {
   "cell_type": "code",
   "execution_count": null,
   "metadata": {
    "scrolled": true
   },
   "outputs": [],
   "source": [
    "def ecart_type_s(masse):\n",
    "    N=len(masse)\n",
    "    V=0\n",
    "    moy=moyenne(masse)\n",
    "    for i in range(N):\n",
    "        V=V+(masse[i]-moy)**2\n",
    "    return math.sqrt ((V)/(N-1))\n",
    "ecartType=ecart_type_s(masse)*1E3\n",
    "print()\n",
    "print('\\033[92m','\\033[1m',\"La valeur de l'écart type des valeurs de la masse vaut : \",ecartType,\" g\")\n",
    "print()"
   ]
  },
  {
   "cell_type": "markdown",
   "metadata": {},
   "source": [
    "<div class=\"alert alert-warning\">\n",
    "<b>Travail à faire pour compléter le bloc de programme suivant : </b> <br>\n",
    "\n",
    "Dans le bloc de programme suivant, on se propose de créer une fonction dont le but est de calculer l'incertitude U(m) sur les valeurs de la masse calculées.<br>\n",
    "\\begin{equation*}\n",
    "U(m)=\\frac{\\text{écart-type \"s\" sur les valeurs de la masse}}{\\sqrt{N}}\n",
    "\\end{equation*}\n",
    "\n",
    "<br>La racine carrée d'un nombre, en langage python, se saisie de la manière suivante math.sqrt(nombre)\n",
    "\n",
    "<br>Après avoir consulté le code, remplacer la mention \"-----A COMPLETER-----\" de la ligne n°3 par une ligne de code adaptée.<br>\n",
    "\n",
    "<br>En cas de doute, il est possible d'utiliser l\"Aide\" proposée ci-dessous. Avant d'executer le programme, il est possible de cliquer sur la \"solution\" pour vérifier sa proposition.<br>\n",
    "<br><b>ATTENTION : une fois le code complété, il ne faudra pas oublier de l'exécuter. </b>\n",
    "</div>"
   ]
  },
  {
   "cell_type": "markdown",
   "metadata": {},
   "source": [
    "<details>\n",
    "<summary>Aide</summary>\n",
    "<p>Vous devez compléter la ligne n°3 en remplaçant la mention \"---A COMPLETER----\" par l'expression d'un calcul adapté. .</p>\n",
    "</details>\n",
    "\n",
    "<details>\n",
    "<summary>Solution</summary>\n",
    "<p> la variable correspondant au nombre de valeurs de la masse est appelée N.On remplace la mention ---A COMPLETER---- de la ligne n°3 de la manière suivante : <br></p>\n",
    "\n",
    "<p>\n",
    "<br>return ecart_type(masse)/math.sqrt(N)</p>\n",
    "</details>"
   ]
  },
  {
   "cell_type": "code",
   "execution_count": null,
   "metadata": {
    "scrolled": true
   },
   "outputs": [],
   "source": [
    "def incertitude(masse):\n",
    "    N=len(masse)\n",
    "    return ecart_type_s(masse)/math.sqrt(N)\n",
    "U=incertitude(masse)*1E3\n",
    "print()\n",
    "print('\\033[92m','\\033[1m',\"La valeur l'incertitude sur la masse vaut : U(m) = \",U,\" g\")\n",
    "print()"
   ]
  },
  {
   "cell_type": "markdown",
   "metadata": {},
   "source": [
    "<div class=\"alert alert-info\" role=\"alert\">\n",
    "<b>Travail à faire pour exécuter le bloc de programme suivant : </b> <br>\n",
    "    \n",
    "<p>Pour exprimer le résultat de la masse de l'objet étudié et obtenue par exploitation de plusieurs mesures, il faut l'écrire sous la forme :<br>\n",
    "\\begin{equation*}\n",
    " m = m_{\\text{estimée}}\\pm U(m) \n",
    "\\end{equation*}\n",
    "      \n",
    "     \n",
    "avec : <br>\n",
    "m<sub>estimée</sub> : la valeur moyenne de l'ensemble des valauers de la masse déterminée par le calcul<br>\n",
    "U(m): incertitude sur la masse arrondi (au supérieur) à un seul chiffre <br>\n",
    "En exécutant le code suivant, vous aurez le rappel des valeurs utiles pour exprimer de manière adaptée votre résultat trouvé pour la masse de l'objet étudié.\n",
    "<br>\n",
    "Exécuter le code suivant.<br>\n",
    "Pour Exécuter le code dans la cellule ci-dessus, le sélectionner-le en cliquant sur la cellule, puis cliquer sur le bouton Run (ou Exécuter) en haut de la page ou bien en cliquant sur la flèche à côté de In (ou Entrée) si vous êtes sur tablettes ou smartphones.\n",
    "<br><b>Si vous avez réussi, vous verrez un message indiquant la valeur de l'écart-type des valeurs de masses calculées ;)</b>\n",
    "</div>"
   ]
  },
  {
   "cell_type": "code",
   "execution_count": null,
   "metadata": {},
   "outputs": [],
   "source": [
    "print(\"La valeur moyenne de l'ensemble des valeurs de masse  vaut : \",moyenne_masse,\" g\")\n",
    "print()\n",
    "print(\"La valeur l'incertitude sur la masse vaut : U(m) = \",U,\" g\")\n",
    "arrondiUSup=round(U)\n",
    "print()\n",
    "print(\"L'arrondi supérieur de l'incertitude U(m) vaut :\",arrondiUSup,\" g\")"
   ]
  },
  {
   "cell_type": "markdown",
   "metadata": {},
   "source": [
    "<div class=\"alert alert-success\" role=\"alert\">\n",
    "    <h4 class=\"alert-heading\"><b>A vous de jouer !</b></h4>\n",
    "    <p> Pour vérifier si votre présentation du résultat est adapté, exécuter le code suivant.</p>\n",
    "    <p>Quel commentaire peut-on faire sur le résultat proposé ? Et donc quel regard critique peut-on porter sur la méthode proposée pour déterminer la masse de l'objet étudié ?\n",
    "</div>"
   ]
  },
  {
   "cell_type": "code",
   "execution_count": null,
   "metadata": {
    "scrolled": false
   },
   "outputs": [],
   "source": [
    "print(\"Le résultat peut s'écrire sous la forme suivante :\")\n",
    "print()\n",
    "print(\"m = (\",moyenne_masse,'\\u00B1',arrondiUSup,\") g\")"
   ]
  }
 ],
 "metadata": {
  "kernelspec": {
   "display_name": "Python 3",
   "language": "python",
   "name": "python3"
  },
  "language_info": {
   "codemirror_mode": {
    "name": "ipython",
    "version": 3
   },
   "file_extension": ".py",
   "mimetype": "text/x-python",
   "name": "python",
   "nbconvert_exporter": "python",
   "pygments_lexer": "ipython3",
   "version": "3.7.4"
  }
 },
 "nbformat": 4,
 "nbformat_minor": 2
}
